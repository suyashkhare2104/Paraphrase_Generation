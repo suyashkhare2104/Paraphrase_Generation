{
  "nbformat": 4,
  "nbformat_minor": 0,
  "metadata": {
    "colab": {
      "provenance": []
    },
    "kernelspec": {
      "name": "python3",
      "display_name": "Python 3"
    },
    "language_info": {
      "name": "python"
    }
  },
  "cells": [
    {
      "cell_type": "markdown",
      "source": [
        "To solve the paraphrase generation problem using traditional NLP techniques, we can leverage several strategies without relying on deep learning models. Here’s a breakdown of a pipeline you can implement:\n",
        "\n",
        "1. Synonym Replacement (Word-level Paraphrasing):\n",
        "\n",
        "    One common technique is to replace words in the input text with their synonyms while maintaining grammatical structure. This can be done using a thesaurus like WordNet.\n",
        "\n",
        "  Steps:\n",
        "  1. Tokenize the sentence into words.\n",
        "  2. For each word, find synonyms using a lexical database like WordNet.\n",
        "  3. Replace the word with a synonym that fits the context.\n"
      ],
      "metadata": {
        "id": "3rKj3eKCAZmD"
      }
    },
    {
      "cell_type": "code",
      "source": [
        "%%capture\n",
        "import nltk\n",
        "from nltk.corpus import wordnet\n",
        "\n",
        "# Download WordNet\n",
        "nltk.download('wordnet')\n",
        "nltk.download('punkt')\n",
        "import random"
      ],
      "metadata": {
        "colab": {
          "base_uri": "https://localhost:8080/"
        },
        "id": "Z7LUsOjqA3Eo",
        "outputId": "1c167f1b-99b2-45fa-bfe3-9822726a4c79"
      },
      "execution_count": 7,
      "outputs": [
        {
          "output_type": "stream",
          "name": "stderr",
          "text": [
            "[nltk_data] Downloading package wordnet to /root/nltk_data...\n",
            "[nltk_data]   Package wordnet is already up-to-date!\n",
            "[nltk_data] Downloading package punkt to /root/nltk_data...\n",
            "[nltk_data]   Package punkt is already up-to-date!\n"
          ]
        }
      ]
    },
    {
      "cell_type": "code",
      "execution_count": 8,
      "metadata": {
        "colab": {
          "base_uri": "https://localhost:8080/"
        },
        "id": "hl-yM5sdAV23",
        "outputId": "1d964b9c-2a7e-4777-fcd4-c8a4c937b01b"
      },
      "outputs": [
        {
          "output_type": "stream",
          "name": "stdout",
          "text": [
            "The immediate browned trick spring complete the slothful dog-iron .\n"
          ]
        }
      ],
      "source": [
        "def get_synonyms(word):\n",
        "    synonyms = []\n",
        "    for syn in wordnet.synsets(word):\n",
        "        for lemma in syn.lemmas():\n",
        "            synonyms.append(lemma.name())\n",
        "    return set(synonyms)\n",
        "\n",
        "def synonym_replacement(sentence):\n",
        "    words = nltk.word_tokenize(sentence)\n",
        "    paraphrased_sentence = []\n",
        "    for word in words:\n",
        "        synonyms = get_synonyms(word)\n",
        "        if synonyms:\n",
        "            paraphrased_sentence.append(random.choice(list(synonyms))) # Replace with a synonym\n",
        "        else:\n",
        "            paraphrased_sentence.append(word)\n",
        "    return ' '.join(paraphrased_sentence)\n",
        "\n",
        "sentence = \"The quick brown fox jumps over the lazy dog.\"\n",
        "print(synonym_replacement(sentence))\n"
      ]
    },
    {
      "cell_type": "markdown",
      "source": [
        "funny ;)"
      ],
      "metadata": {
        "id": "LcK90wPmBT9P"
      }
    },
    {
      "cell_type": "markdown",
      "source": [
        "2. Rule-based Sentence Restructuring:\n",
        "Another approach is to use syntactic transformations, like changing the voice of the sentence or using passive constructions.\n",
        "\n",
        "    Active to Passive:\n",
        "- Transform active sentences into passive voice and vice versa.\n"
      ],
      "metadata": {
        "id": "qusO7qVTBW3i"
      }
    },
    {
      "cell_type": "code",
      "source": [
        "%%capture\n",
        "import spacy\n",
        "\n",
        "# Load the spaCy model for advanced parsing\n",
        "nlp = spacy.load(\"en_core_web_sm\")\n"
      ],
      "metadata": {
        "id": "ITGbQkV8CsQI"
      },
      "execution_count": 22,
      "outputs": []
    },
    {
      "cell_type": "code",
      "source": [
        "\n",
        "def active_to_passive(sentence):\n",
        "    # Parse the sentence using spaCy to identify grammatical components\n",
        "    doc = nlp(sentence)\n",
        "\n",
        "    # Variables to store subject, verb, and object\n",
        "    subject = None\n",
        "    verb = None\n",
        "    obj = None\n",
        "\n",
        "    # Iterate through tokens and assign subject, verb, and object based on dependency parsing\n",
        "    for token in doc:\n",
        "        if token.dep_ == \"nsubj\":  # Nominal subject\n",
        "            subject = token\n",
        "        elif token.dep_ == \"dobj\":  # Direct object\n",
        "            obj = token\n",
        "        elif token.pos_ == \"VERB\":  # Verb\n",
        "            verb = token\n",
        "\n",
        "    # If we can't find a subject, verb, and object, return the original sentence\n",
        "    if not subject or not verb or not obj:\n",
        "        return sentence\n",
        "\n",
        "    # Construct the passive voice sentence\n",
        "    passive_sentence = f\"{obj} was {verb.lemma_}ed by {subject}\"\n",
        "\n",
        "    return passive_sentence\n",
        "\n",
        "# Example usage\n",
        "sentence = \"The fox chased the rabbit.\"\n",
        "print(active_to_passive(sentence))\n"
      ],
      "metadata": {
        "colab": {
          "base_uri": "https://localhost:8080/"
        },
        "id": "ntwWdpNBAuwf",
        "outputId": "4b418de3-a1eb-4715-ccdd-5326d5da9e6a"
      },
      "execution_count": 23,
      "outputs": [
        {
          "output_type": "stream",
          "name": "stdout",
          "text": [
            "rabbit was chaseed by fox\n"
          ]
        }
      ]
    },
    {
      "cell_type": "markdown",
      "source": [
        "3. Shuffling Phrases (Phrase-level Paraphrasing):\n",
        "\n",
        "Use dependency parsing or chunking to identify meaningful phrases in a sentence (noun phrases, verb phrases, etc.) and then rearrange them to create a new sentence.\n",
        "\n",
        "Example using spaCy for dependency parsing:"
      ],
      "metadata": {
        "id": "Z3yNw7HTC2_M"
      }
    },
    {
      "cell_type": "code",
      "source": [
        "import spacy\n",
        "nlp = spacy.load(\"en_core_web_sm\")\n",
        "\n",
        "def phrase_shuffling(sentence):\n",
        "    doc = nlp(sentence)\n",
        "    phrases = [chunk.text for chunk in doc.noun_chunks]\n",
        "    return ' '.join(phrases[::-1])  # Reverse the order of noun phrases for variation\n",
        "\n",
        "sentence = \"The quick brown fox jumps over the lazy dog.\"\n",
        "print(phrase_shuffling(sentence))\n"
      ],
      "metadata": {
        "colab": {
          "base_uri": "https://localhost:8080/"
        },
        "id": "kK1yfnVsC2Bd",
        "outputId": "afd825a7-4969-4cd1-a5a8-3c187f808ebf"
      },
      "execution_count": 24,
      "outputs": [
        {
          "output_type": "stream",
          "name": "stdout",
          "text": [
            "the lazy dog The quick brown fox\n"
          ]
        }
      ]
    },
    {
      "cell_type": "markdown",
      "source": [
        "4. Back-Translation (Semi-traditional NLP):\n",
        "\n",
        "Although not purely a traditional NLP technique, back-translation is a simple way to generate paraphrases. It involves translating a sentence into another language and then back into the original language using a translation API or library.\n",
        "\n"
      ],
      "metadata": {
        "id": "caqHUfAoDW-d"
      }
    },
    {
      "cell_type": "code",
      "source": [
        "%%capture\n",
        "!pip install deep-translator\n",
        "from deep_translator import GoogleTranslator"
      ],
      "metadata": {
        "id": "qgu9nbPkDe8j"
      },
      "execution_count": 30,
      "outputs": []
    },
    {
      "cell_type": "code",
      "source": [
        "def back_translation(sentence, src_lang='en', intermediate_lang='fr'):\n",
        "    try:\n",
        "        # Translate from source to intermediate language\n",
        "        intermediate_translation = GoogleTranslator(source=src_lang, target=intermediate_lang).translate(sentence)\n",
        "\n",
        "        # Translate back from intermediate to source language\n",
        "        back_translated = GoogleTranslator(source=intermediate_lang, target=src_lang).translate(intermediate_translation)\n",
        "\n",
        "        return back_translated\n",
        "    except Exception as e:\n",
        "        print(f\"Error during translation: {e}\")\n",
        "        return sentence  # Return the original sentence if there's an error\n",
        "\n",
        "sentence = \"The quick brown fox jumps over the lazy dog.\"\n",
        "print(back_translation(sentence))"
      ],
      "metadata": {
        "colab": {
          "base_uri": "https://localhost:8080/"
        },
        "id": "YrRMLDV-BgbQ",
        "outputId": "e4fea480-3961-40ef-8b30-f0afb42a6179"
      },
      "execution_count": 31,
      "outputs": [
        {
          "output_type": "stream",
          "name": "stdout",
          "text": [
            "The quick brown fox jumps over the lazy dog.\n"
          ]
        }
      ]
    },
    {
      "cell_type": "code",
      "source": [
        "# Combined Paraphrasing Function\n",
        "def paraphrase(sentence):\n",
        "    print(f\"Original: {sentence}\")\n",
        "\n",
        "    # Step 1: Synonym Replacement\n",
        "    # synonym_paraphrase = synonym_replacement(sentence)\n",
        "    # print(f\"After Synonym Replacement: {synonym_paraphrase}\")\n",
        "\n",
        "    # Step 2: Phrase Shuffling\n",
        "    shuffled_paraphrase = phrase_shuffling(sentence)\n",
        "    # print(f\"After Phrase Shuffling: {shuffled_paraphrase}\")\n",
        "\n",
        "    # Step 3: Active to Passive (if applicable)\n",
        "    passive_paraphrase = active_to_passive(shuffled_paraphrase)\n",
        "    # print(f\"After Active to Passive: {passive_paraphrase}\")\n",
        "\n",
        "    # Step 4: Back-Translation for final variation\n",
        "    final_paraphrase = back_translation(passive_paraphrase)\n",
        "    # print(f\"After Back-Translation: {final_paraphrase}\")\n",
        "\n",
        "    return final_paraphrase\n",
        "\n",
        "# Example usage\n",
        "sentence = \"The quick brown fox jumps over the lazy dog.\"\n",
        "paraphrased_sentence = paraphrase(sentence)\n",
        "print(f\"Final Paraphrase: {paraphrased_sentence}\")"
      ],
      "metadata": {
        "colab": {
          "base_uri": "https://localhost:8080/"
        },
        "id": "GLkaHhz5Da94",
        "outputId": "7b7a3141-0c21-4af2-ea16-6c1373ef9015"
      },
      "execution_count": 35,
      "outputs": [
        {
          "output_type": "stream",
          "name": "stdout",
          "text": [
            "Original: The quick brown fox jumps over the lazy dog.\n",
            "Final Paraphrase: the lazy dog ​​the quick brown fox\n"
          ]
        }
      ]
    },
    {
      "cell_type": "markdown",
      "source": [
        "lets paraphrase the text provided"
      ],
      "metadata": {
        "id": "Bszo5vJeEjaT"
      }
    },
    {
      "cell_type": "code",
      "source": [
        "input_text = \"\"\"A cover letter is a formal document that accompanies your resume when you apply for a job.\"\"\""
      ],
      "metadata": {
        "id": "iAm0igNrEVhA"
      },
      "execution_count": 37,
      "outputs": []
    },
    {
      "cell_type": "code",
      "source": [
        "paraphrased_sentence = paraphrase(input_text)\n",
        "print(f\"Final Paraphrase: {paraphrased_sentence}\")"
      ],
      "metadata": {
        "colab": {
          "base_uri": "https://localhost:8080/"
        },
        "id": "jtRO1ln8ErnX",
        "outputId": "5daebf13-e47e-4457-a3e6-81a3a675ba65"
      },
      "execution_count": 38,
      "outputs": [
        {
          "output_type": "stream",
          "name": "stdout",
          "text": [
            "Original: A cover letter is a formal document that accompanies your resume when you apply for a job.\n",
            "Final Paraphrase: a job your CV an official document a cover letter\n"
          ]
        }
      ]
    },
    {
      "cell_type": "markdown",
      "source": [
        "its not great. We will have to fine tune a transformer"
      ],
      "metadata": {
        "id": "DK1WYz1RE6ds"
      }
    },
    {
      "cell_type": "code",
      "source": [],
      "metadata": {
        "id": "2GCrGMpxEzPP"
      },
      "execution_count": null,
      "outputs": []
    }
  ]
}